{
 "cells": [
  {
   "cell_type": "code",
   "execution_count": 21,
   "metadata": {},
   "outputs": [],
   "source": [
    "import pandas as pd\n",
    "import requests\n",
    "import matplotlib.pyplot as plt\n",
    "import numpy as np\n",
    "\n",
    "\n"
   ]
  },
  {
   "cell_type": "code",
   "execution_count": 22,
   "metadata": {},
   "outputs": [],
   "source": [
    "url = 'https://raw.githubusercontent.com/mooey5775/dataopen_m20/master/datasets_full/Vancouver/vancouver_business_size.csv?token=AQIYARSF3RJUT5JGFMRW22C7C5N2A'\n",
    "df = pd.read_csv(url, error_bad_lines=False)"
   ]
  },
  {
   "cell_type": "code",
   "execution_count": 23,
   "metadata": {},
   "outputs": [],
   "source": [
    "url = 'https://raw.githubusercontent.com/mooey5775/dataopen_m20/master/datasets_full/Vancouver/region_codes.csv?token=AQIYARULOGRXKIOESU5P6TS7C5WBY'\n",
    "df1 = pd.read_csv(url, error_bad_lines=False)"
   ]
  },
  {
   "cell_type": "code",
   "execution_count": null,
   "metadata": {},
   "outputs": [],
   "source": [
    "name=['Greater Vancouver', 'Frasey Valley', 'Cowichan Valley', 'Nanaimo', 'Alberni-Clayoquot', 'Comox',\n",
    "     'Powell River', 'Sunshine coast', 'Squamish-Lillooet', 'Okanagan-Similkameen']\n",
    "region_c=['RD15','RD09','RD19', 'RD21', 'RD23','RD25', 'RD27', 'RD29', 'RD31', 'RD07']"
   ]
  },
  {
   "cell_type": "code",
   "execution_count": null,
   "metadata": {},
   "outputs": [],
   "source": []
  },
  {
   "cell_type": "code",
   "execution_count": 24,
   "metadata": {},
   "outputs": [
    {
     "data": {
      "text/html": [
       "<div>\n",
       "<style scoped>\n",
       "    .dataframe tbody tr th:only-of-type {\n",
       "        vertical-align: middle;\n",
       "    }\n",
       "\n",
       "    .dataframe tbody tr th {\n",
       "        vertical-align: top;\n",
       "    }\n",
       "\n",
       "    .dataframe thead th {\n",
       "        text-align: right;\n",
       "    }\n",
       "</style>\n",
       "<table border=\"1\" class=\"dataframe\">\n",
       "  <thead>\n",
       "    <tr style=\"text-align: right;\">\n",
       "      <th></th>\n",
       "      <th>region_code</th>\n",
       "      <th>region_name</th>\n",
       "      <th>Composition</th>\n",
       "      <th>Description</th>\n",
       "    </tr>\n",
       "  </thead>\n",
       "  <tbody>\n",
       "    <tr>\n",
       "      <td>1</td>\n",
       "      <td>DR02</td>\n",
       "      <td>Mainland/Southwest</td>\n",
       "      <td>RD 09, 15, 29, 31</td>\n",
       "      <td>NaN</td>\n",
       "    </tr>\n",
       "    <tr>\n",
       "      <td>2</td>\n",
       "      <td>DR03</td>\n",
       "      <td>Thompson/Okanagan</td>\n",
       "      <td>RD 07, 33, 35, 37, 39</td>\n",
       "      <td>NaN</td>\n",
       "    </tr>\n",
       "    <tr>\n",
       "      <td>3</td>\n",
       "      <td>DR04</td>\n",
       "      <td>Kootenay</td>\n",
       "      <td>RD 01, 03, 05</td>\n",
       "      <td>NaN</td>\n",
       "    </tr>\n",
       "    <tr>\n",
       "      <td>4</td>\n",
       "      <td>DR05</td>\n",
       "      <td>Cariboo</td>\n",
       "      <td>RD 41, 53</td>\n",
       "      <td>NaN</td>\n",
       "    </tr>\n",
       "    <tr>\n",
       "      <td>5</td>\n",
       "      <td>DR06</td>\n",
       "      <td>North Coast</td>\n",
       "      <td>RD 47, 49</td>\n",
       "      <td>NaN</td>\n",
       "    </tr>\n",
       "    <tr>\n",
       "      <td>6</td>\n",
       "      <td>DR07</td>\n",
       "      <td>Nechako</td>\n",
       "      <td>RD 51+57</td>\n",
       "      <td>NaN</td>\n",
       "    </tr>\n",
       "    <tr>\n",
       "      <td>7</td>\n",
       "      <td>DR08</td>\n",
       "      <td>Northeast</td>\n",
       "      <td>RD 55+59</td>\n",
       "      <td>NaN</td>\n",
       "    </tr>\n",
       "    <tr>\n",
       "      <td>8</td>\n",
       "      <td>RD01</td>\n",
       "      <td>East Kootenay</td>\n",
       "      <td>UC 08, 29, 31, 38</td>\n",
       "      <td>NaN</td>\n",
       "    </tr>\n",
       "    <tr>\n",
       "      <td>9</td>\n",
       "      <td>RD03</td>\n",
       "      <td>Central Kootenay</td>\n",
       "      <td>UC 22</td>\n",
       "      <td>NaN</td>\n",
       "    </tr>\n",
       "    <tr>\n",
       "      <td>10</td>\n",
       "      <td>RD05</td>\n",
       "      <td>Kootenay Boundary</td>\n",
       "      <td>NaN</td>\n",
       "      <td>NaN</td>\n",
       "    </tr>\n",
       "    <tr>\n",
       "      <td>11</td>\n",
       "      <td>RD07</td>\n",
       "      <td>Okanagan-Similkameen</td>\n",
       "      <td>UC 18, 33, 34</td>\n",
       "      <td>NaN</td>\n",
       "    </tr>\n",
       "    <tr>\n",
       "      <td>12</td>\n",
       "      <td>RD09</td>\n",
       "      <td>Fraser Valley</td>\n",
       "      <td>UC 35, 36</td>\n",
       "      <td>NaN</td>\n",
       "    </tr>\n",
       "    <tr>\n",
       "      <td>13</td>\n",
       "      <td>RD15</td>\n",
       "      <td>Greater Vancouver</td>\n",
       "      <td>UC 01, 02, 24, 26</td>\n",
       "      <td>NaN</td>\n",
       "    </tr>\n",
       "    <tr>\n",
       "      <td>14</td>\n",
       "      <td>RD17</td>\n",
       "      <td>Capital</td>\n",
       "      <td>UC 04, 28</td>\n",
       "      <td>NaN</td>\n",
       "    </tr>\n",
       "    <tr>\n",
       "      <td>15</td>\n",
       "      <td>RD19</td>\n",
       "      <td>Cowichan Valley</td>\n",
       "      <td>NaN</td>\n",
       "      <td>NaN</td>\n",
       "    </tr>\n",
       "    <tr>\n",
       "      <td>16</td>\n",
       "      <td>RD21</td>\n",
       "      <td>Nanaimo</td>\n",
       "      <td>UC 16</td>\n",
       "      <td>NaN</td>\n",
       "    </tr>\n",
       "    <tr>\n",
       "      <td>17</td>\n",
       "      <td>RD23</td>\n",
       "      <td>Alberni-Clayoquot</td>\n",
       "      <td>UC 13, 40, 41</td>\n",
       "      <td>NaN</td>\n",
       "    </tr>\n",
       "    <tr>\n",
       "      <td>18</td>\n",
       "      <td>RD25</td>\n",
       "      <td>Comox+Strathcona</td>\n",
       "      <td>UC 25, 39</td>\n",
       "      <td>NaN</td>\n",
       "    </tr>\n",
       "    <tr>\n",
       "      <td>19</td>\n",
       "      <td>RD27</td>\n",
       "      <td>Powell River</td>\n",
       "      <td>NaN</td>\n",
       "      <td>NaN</td>\n",
       "    </tr>\n",
       "    <tr>\n",
       "      <td>20</td>\n",
       "      <td>RD29</td>\n",
       "      <td>Sunshine Coast</td>\n",
       "      <td>NaN</td>\n",
       "      <td>NaN</td>\n",
       "    </tr>\n",
       "    <tr>\n",
       "      <td>21</td>\n",
       "      <td>RD31</td>\n",
       "      <td>Squamish-Lillooet</td>\n",
       "      <td>UC 20</td>\n",
       "      <td>NaN</td>\n",
       "    </tr>\n",
       "    <tr>\n",
       "      <td>22</td>\n",
       "      <td>RD33</td>\n",
       "      <td>Thompson-Nicola</td>\n",
       "      <td>UC 06, 37</td>\n",
       "      <td>NaN</td>\n",
       "    </tr>\n",
       "    <tr>\n",
       "      <td>23</td>\n",
       "      <td>RD35</td>\n",
       "      <td>Central Okanagan</td>\n",
       "      <td>UC 07</td>\n",
       "      <td>NaN</td>\n",
       "    </tr>\n",
       "    <tr>\n",
       "      <td>24</td>\n",
       "      <td>RD37</td>\n",
       "      <td>North Okanagan</td>\n",
       "      <td>UC 17</td>\n",
       "      <td>NaN</td>\n",
       "    </tr>\n",
       "    <tr>\n",
       "      <td>25</td>\n",
       "      <td>RD39</td>\n",
       "      <td>Columbia-Shuswap</td>\n",
       "      <td>UC 27. 30</td>\n",
       "      <td>NaN</td>\n",
       "    </tr>\n",
       "    <tr>\n",
       "      <td>26</td>\n",
       "      <td>RD41</td>\n",
       "      <td>Cariboo</td>\n",
       "      <td>UC 14, 21</td>\n",
       "      <td>NaN</td>\n",
       "    </tr>\n",
       "    <tr>\n",
       "      <td>27</td>\n",
       "      <td>RD43</td>\n",
       "      <td>Mount Waddington</td>\n",
       "      <td>NaN</td>\n",
       "      <td>NaN</td>\n",
       "    </tr>\n",
       "    <tr>\n",
       "      <td>28</td>\n",
       "      <td>RD45</td>\n",
       "      <td>Central Coast</td>\n",
       "      <td>NaN</td>\n",
       "      <td>NaN</td>\n",
       "    </tr>\n",
       "    <tr>\n",
       "      <td>29</td>\n",
       "      <td>RD47</td>\n",
       "      <td>Skeena-Queen Charlotte</td>\n",
       "      <td>UC 10</td>\n",
       "      <td>NaN</td>\n",
       "    </tr>\n",
       "    <tr>\n",
       "      <td>30</td>\n",
       "      <td>RD49</td>\n",
       "      <td>Kitimat-Stikine</td>\n",
       "      <td>UC 15</td>\n",
       "      <td>NaN</td>\n",
       "    </tr>\n",
       "    <tr>\n",
       "      <td>31</td>\n",
       "      <td>RD51+57</td>\n",
       "      <td>Bulkley-Nechako+Stikine</td>\n",
       "      <td>UC 11</td>\n",
       "      <td>NaN</td>\n",
       "    </tr>\n",
       "    <tr>\n",
       "      <td>32</td>\n",
       "      <td>RD53</td>\n",
       "      <td>Fraser-Ft George</td>\n",
       "      <td>UC 09, 38</td>\n",
       "      <td>NaN</td>\n",
       "    </tr>\n",
       "    <tr>\n",
       "      <td>33</td>\n",
       "      <td>RD55+59</td>\n",
       "      <td>Peace River+Northern Rockies</td>\n",
       "      <td>UC 12, 19</td>\n",
       "      <td>NaN</td>\n",
       "    </tr>\n",
       "    <tr>\n",
       "      <td>34</td>\n",
       "      <td>UC01</td>\n",
       "      <td>Downtown Vancouver</td>\n",
       "      <td>NaN</td>\n",
       "      <td>Properties reporting with postal code FSAs V6B...</td>\n",
       "    </tr>\n",
       "    <tr>\n",
       "      <td>35</td>\n",
       "      <td>UC02</td>\n",
       "      <td>Other Vancouver</td>\n",
       "      <td>NaN</td>\n",
       "      <td>City of Vancouver, excluding UC 01</td>\n",
       "    </tr>\n",
       "    <tr>\n",
       "      <td>36</td>\n",
       "      <td>UC03</td>\n",
       "      <td>Rest of Greater Vancouver RD</td>\n",
       "      <td>NaN</td>\n",
       "      <td>Greater Vancouver RD, excluding UC 01, 02, 24, 26</td>\n",
       "    </tr>\n",
       "    <tr>\n",
       "      <td>37</td>\n",
       "      <td>UC04</td>\n",
       "      <td>Victoria</td>\n",
       "      <td>NaN</td>\n",
       "      <td>City of Victoria</td>\n",
       "    </tr>\n",
       "    <tr>\n",
       "      <td>38</td>\n",
       "      <td>UC05</td>\n",
       "      <td>Rest of Capital RD</td>\n",
       "      <td>NaN</td>\n",
       "      <td>Capital RD, excluding UC 04, 28</td>\n",
       "    </tr>\n",
       "    <tr>\n",
       "      <td>39</td>\n",
       "      <td>UC06</td>\n",
       "      <td>Kamloops</td>\n",
       "      <td>NaN</td>\n",
       "      <td>City of Kamloops</td>\n",
       "    </tr>\n",
       "  </tbody>\n",
       "</table>\n",
       "</div>"
      ],
      "text/plain": [
       "   region_code                   region_name            Composition  \\\n",
       "1         DR02            Mainland/Southwest      RD 09, 15, 29, 31   \n",
       "2         DR03             Thompson/Okanagan  RD 07, 33, 35, 37, 39   \n",
       "3         DR04                      Kootenay          RD 01, 03, 05   \n",
       "4         DR05                       Cariboo              RD 41, 53   \n",
       "5         DR06                   North Coast              RD 47, 49   \n",
       "6         DR07                       Nechako               RD 51+57   \n",
       "7         DR08                     Northeast               RD 55+59   \n",
       "8         RD01                 East Kootenay      UC 08, 29, 31, 38   \n",
       "9         RD03              Central Kootenay                  UC 22   \n",
       "10        RD05             Kootenay Boundary                    NaN   \n",
       "11        RD07          Okanagan-Similkameen          UC 18, 33, 34   \n",
       "12        RD09                 Fraser Valley              UC 35, 36   \n",
       "13        RD15             Greater Vancouver      UC 01, 02, 24, 26   \n",
       "14        RD17                       Capital              UC 04, 28   \n",
       "15        RD19               Cowichan Valley                    NaN   \n",
       "16        RD21                       Nanaimo                  UC 16   \n",
       "17        RD23             Alberni-Clayoquot          UC 13, 40, 41   \n",
       "18        RD25              Comox+Strathcona              UC 25, 39   \n",
       "19        RD27                  Powell River                    NaN   \n",
       "20        RD29                Sunshine Coast                    NaN   \n",
       "21        RD31             Squamish-Lillooet                  UC 20   \n",
       "22        RD33               Thompson-Nicola              UC 06, 37   \n",
       "23        RD35              Central Okanagan                  UC 07   \n",
       "24        RD37                North Okanagan                  UC 17   \n",
       "25        RD39              Columbia-Shuswap              UC 27. 30   \n",
       "26        RD41                       Cariboo              UC 14, 21   \n",
       "27        RD43              Mount Waddington                    NaN   \n",
       "28        RD45                 Central Coast                    NaN   \n",
       "29        RD47        Skeena-Queen Charlotte                  UC 10   \n",
       "30        RD49               Kitimat-Stikine                  UC 15   \n",
       "31     RD51+57       Bulkley-Nechako+Stikine                  UC 11   \n",
       "32        RD53              Fraser-Ft George              UC 09, 38   \n",
       "33     RD55+59  Peace River+Northern Rockies              UC 12, 19   \n",
       "34        UC01            Downtown Vancouver                    NaN   \n",
       "35        UC02               Other Vancouver                    NaN   \n",
       "36        UC03  Rest of Greater Vancouver RD                    NaN   \n",
       "37        UC04                      Victoria                    NaN   \n",
       "38        UC05            Rest of Capital RD                    NaN   \n",
       "39        UC06                      Kamloops                    NaN   \n",
       "\n",
       "                                          Description  \n",
       "1                                                 NaN  \n",
       "2                                                 NaN  \n",
       "3                                                 NaN  \n",
       "4                                                 NaN  \n",
       "5                                                 NaN  \n",
       "6                                                 NaN  \n",
       "7                                                 NaN  \n",
       "8                                                 NaN  \n",
       "9                                                 NaN  \n",
       "10                                                NaN  \n",
       "11                                                NaN  \n",
       "12                                                NaN  \n",
       "13                                                NaN  \n",
       "14                                                NaN  \n",
       "15                                                NaN  \n",
       "16                                                NaN  \n",
       "17                                                NaN  \n",
       "18                                                NaN  \n",
       "19                                                NaN  \n",
       "20                                                NaN  \n",
       "21                                                NaN  \n",
       "22                                                NaN  \n",
       "23                                                NaN  \n",
       "24                                                NaN  \n",
       "25                                                NaN  \n",
       "26                                                NaN  \n",
       "27                                                NaN  \n",
       "28                                                NaN  \n",
       "29                                                NaN  \n",
       "30                                                NaN  \n",
       "31                                                NaN  \n",
       "32                                                NaN  \n",
       "33                                                NaN  \n",
       "34  Properties reporting with postal code FSAs V6B...  \n",
       "35                 City of Vancouver, excluding UC 01  \n",
       "36  Greater Vancouver RD, excluding UC 01, 02, 24, 26  \n",
       "37                                   City of Victoria  \n",
       "38                    Capital RD, excluding UC 04, 28  \n",
       "39                                   City of Kamloops  "
      ]
     },
     "execution_count": 24,
     "metadata": {},
     "output_type": "execute_result"
    }
   ],
   "source": [
    "df1[1:40]"
   ]
  },
  {
   "cell_type": "code",
   "execution_count": 221,
   "metadata": {},
   "outputs": [
    {
     "name": "stdout",
     "output_type": "stream",
     "text": [
      "Information & Cultural Industries\n",
      "Health Care & Social Assistance\n",
      "Admin. & Sup'rt, Waste Mgmt.\n",
      "Mgmt. of Companies & Enter.\n",
      "Transp. & Warehousing\n",
      "Other Services (excl. Public Administration)\n",
      "Public Administration\n",
      "Educational Services\n",
      "Wholesale Trade\n",
      "Mining & Oil & Gas Extract.\n",
      "Mining & Oil & Gas Extraction\n",
      "Admin. & Support, Waste Mgmt. & Remedtn.\n",
      "Professional, Scientific & Technical Services\n",
      "Unclassified\n",
      "Finance & Insurance\n",
      "Other Serv's (ex. Public Admin.)\n",
      "Retail Trade\n",
      "Agric., Forestry, Fishing & Hunt\n",
      "Agriculture, Forestry, Fishing & Hunting\n",
      "Manufacturing\n",
      "Profes'nl, Scientif. & Tech. Srv\n",
      "Accom. & Food Services\n",
      "Management of Companies & Enterprises\n",
      "Real Estate & Rental & Leasing\n",
      "Utilities\n",
      "Information & Cultural Indust.\n",
      "Transportation & Warehousing (48-49)\n",
      "Construction\n",
      "Arts, Entertainment & Recreation\n",
      "Accommodation & Food Services\n"
     ]
    }
   ],
   "source": [
    "for val in set(df.business_type.values):\n",
    "    print(val)"
   ]
  },
  {
   "cell_type": "code",
   "execution_count": 119,
   "metadata": {},
   "outputs": [
    {
     "name": "stderr",
     "output_type": "stream",
     "text": [
      "/Users/fangmenggu/opt/anaconda3/lib/python3.7/site-packages/ipykernel_launcher.py:1: UserWarning: Boolean Series key will be reindexed to match DataFrame index.\n",
      "  \"\"\"Entry point for launching an IPython kernel.\n"
     ]
    },
    {
     "data": {
      "text/html": [
       "<div>\n",
       "<style scoped>\n",
       "    .dataframe tbody tr th:only-of-type {\n",
       "        vertical-align: middle;\n",
       "    }\n",
       "\n",
       "    .dataframe tbody tr th {\n",
       "        vertical-align: top;\n",
       "    }\n",
       "\n",
       "    .dataframe thead th {\n",
       "        text-align: right;\n",
       "    }\n",
       "</style>\n",
       "<table border=\"1\" class=\"dataframe\">\n",
       "  <thead>\n",
       "    <tr style=\"text-align: right;\">\n",
       "      <th></th>\n",
       "      <th>year</th>\n",
       "      <th>region_code</th>\n",
       "      <th>business_type</th>\n",
       "      <th>unknown</th>\n",
       "      <th>one_to_4</th>\n",
       "      <th>five_to_9</th>\n",
       "      <th>ten_to_19</th>\n",
       "      <th>twenty_to_49</th>\n",
       "      <th>fifty_to_199</th>\n",
       "      <th>two_hundred_plus</th>\n",
       "    </tr>\n",
       "  </thead>\n",
       "  <tbody>\n",
       "    <tr>\n",
       "      <td>263</td>\n",
       "      <td>1999</td>\n",
       "      <td>RD15</td>\n",
       "      <td>Construction</td>\n",
       "      <td>11,360</td>\n",
       "      <td>4,850</td>\n",
       "      <td>1,156</td>\n",
       "      <td>835</td>\n",
       "      <td>559</td>\n",
       "      <td>182.0</td>\n",
       "      <td>17.0</td>\n",
       "    </tr>\n",
       "    <tr>\n",
       "      <td>983</td>\n",
       "      <td>2000</td>\n",
       "      <td>RD15</td>\n",
       "      <td>Construction</td>\n",
       "      <td>10,712</td>\n",
       "      <td>4,884</td>\n",
       "      <td>1,142</td>\n",
       "      <td>734</td>\n",
       "      <td>530</td>\n",
       "      <td>265.0</td>\n",
       "      <td>34.0</td>\n",
       "    </tr>\n",
       "    <tr>\n",
       "      <td>1703</td>\n",
       "      <td>2001</td>\n",
       "      <td>RD15</td>\n",
       "      <td>Construction</td>\n",
       "      <td>12,766</td>\n",
       "      <td>4,864</td>\n",
       "      <td>1,080</td>\n",
       "      <td>764</td>\n",
       "      <td>528</td>\n",
       "      <td>268.0</td>\n",
       "      <td>31.0</td>\n",
       "    </tr>\n",
       "    <tr>\n",
       "      <td>2423</td>\n",
       "      <td>2002</td>\n",
       "      <td>RD15</td>\n",
       "      <td>Construction</td>\n",
       "      <td>12,330</td>\n",
       "      <td>4,737</td>\n",
       "      <td>1,123</td>\n",
       "      <td>797</td>\n",
       "      <td>565</td>\n",
       "      <td>261.0</td>\n",
       "      <td>29.0</td>\n",
       "    </tr>\n",
       "    <tr>\n",
       "      <td>3143</td>\n",
       "      <td>2003</td>\n",
       "      <td>RD15</td>\n",
       "      <td>Construction</td>\n",
       "      <td>13,564</td>\n",
       "      <td>4,915</td>\n",
       "      <td>1,103</td>\n",
       "      <td>746</td>\n",
       "      <td>549</td>\n",
       "      <td>240.0</td>\n",
       "      <td>28.0</td>\n",
       "    </tr>\n",
       "    <tr>\n",
       "      <td>3863</td>\n",
       "      <td>2004</td>\n",
       "      <td>RD15</td>\n",
       "      <td>Construction</td>\n",
       "      <td>14,611</td>\n",
       "      <td>4,854</td>\n",
       "      <td>1,205</td>\n",
       "      <td>758</td>\n",
       "      <td>535</td>\n",
       "      <td>257.0</td>\n",
       "      <td>39.0</td>\n",
       "    </tr>\n",
       "    <tr>\n",
       "      <td>4583</td>\n",
       "      <td>2005</td>\n",
       "      <td>RD15</td>\n",
       "      <td>Construction</td>\n",
       "      <td>14,394</td>\n",
       "      <td>5,233</td>\n",
       "      <td>1,210</td>\n",
       "      <td>804</td>\n",
       "      <td>564</td>\n",
       "      <td>299.0</td>\n",
       "      <td>45.0</td>\n",
       "    </tr>\n",
       "    <tr>\n",
       "      <td>5303</td>\n",
       "      <td>2006</td>\n",
       "      <td>RD15</td>\n",
       "      <td>Construction</td>\n",
       "      <td>13,948</td>\n",
       "      <td>5,587</td>\n",
       "      <td>1,313</td>\n",
       "      <td>826</td>\n",
       "      <td>645</td>\n",
       "      <td>341.0</td>\n",
       "      <td>59.0</td>\n",
       "    </tr>\n",
       "    <tr>\n",
       "      <td>6023</td>\n",
       "      <td>2007</td>\n",
       "      <td>RD15</td>\n",
       "      <td>Construction</td>\n",
       "      <td>15,770</td>\n",
       "      <td>5,159</td>\n",
       "      <td>1,666</td>\n",
       "      <td>862</td>\n",
       "      <td>557</td>\n",
       "      <td>222.0</td>\n",
       "      <td>27.0</td>\n",
       "    </tr>\n",
       "    <tr>\n",
       "      <td>6743</td>\n",
       "      <td>2008</td>\n",
       "      <td>RD15</td>\n",
       "      <td>Construction</td>\n",
       "      <td>17,549</td>\n",
       "      <td>5,479</td>\n",
       "      <td>1,816</td>\n",
       "      <td>873</td>\n",
       "      <td>591</td>\n",
       "      <td>253.0</td>\n",
       "      <td>33.0</td>\n",
       "    </tr>\n",
       "    <tr>\n",
       "      <td>7463</td>\n",
       "      <td>2009</td>\n",
       "      <td>RD15</td>\n",
       "      <td>Construction</td>\n",
       "      <td>19,570</td>\n",
       "      <td>5,734</td>\n",
       "      <td>1,790</td>\n",
       "      <td>869</td>\n",
       "      <td>617</td>\n",
       "      <td>257.0</td>\n",
       "      <td>32.0</td>\n",
       "    </tr>\n",
       "    <tr>\n",
       "      <td>8183</td>\n",
       "      <td>2010</td>\n",
       "      <td>RD15</td>\n",
       "      <td>Construction</td>\n",
       "      <td>25,079</td>\n",
       "      <td>5,792</td>\n",
       "      <td>1,776</td>\n",
       "      <td>893</td>\n",
       "      <td>573</td>\n",
       "      <td>215.0</td>\n",
       "      <td>35.0</td>\n",
       "    </tr>\n",
       "    <tr>\n",
       "      <td>8903</td>\n",
       "      <td>2011</td>\n",
       "      <td>RD15</td>\n",
       "      <td>Construction</td>\n",
       "      <td>25,529</td>\n",
       "      <td>5,939</td>\n",
       "      <td>1,722</td>\n",
       "      <td>867</td>\n",
       "      <td>529</td>\n",
       "      <td>222.0</td>\n",
       "      <td>31.0</td>\n",
       "    </tr>\n",
       "    <tr>\n",
       "      <td>9623</td>\n",
       "      <td>2012</td>\n",
       "      <td>RD15</td>\n",
       "      <td>Construction</td>\n",
       "      <td>29,266</td>\n",
       "      <td>6,029</td>\n",
       "      <td>1,751</td>\n",
       "      <td>892</td>\n",
       "      <td>554</td>\n",
       "      <td>234.0</td>\n",
       "      <td>35.0</td>\n",
       "    </tr>\n",
       "    <tr>\n",
       "      <td>10343</td>\n",
       "      <td>2013</td>\n",
       "      <td>RD15</td>\n",
       "      <td>Construction</td>\n",
       "      <td>31,804</td>\n",
       "      <td>6,663</td>\n",
       "      <td>1,894</td>\n",
       "      <td>962</td>\n",
       "      <td>581</td>\n",
       "      <td>245.0</td>\n",
       "      <td>41.0</td>\n",
       "    </tr>\n",
       "    <tr>\n",
       "      <td>11057</td>\n",
       "      <td>2014</td>\n",
       "      <td>RD15</td>\n",
       "      <td>Construction</td>\n",
       "      <td>32,938</td>\n",
       "      <td>6,572</td>\n",
       "      <td>1,859</td>\n",
       "      <td>972</td>\n",
       "      <td>590</td>\n",
       "      <td>273.0</td>\n",
       "      <td>52.0</td>\n",
       "    </tr>\n",
       "    <tr>\n",
       "      <td>11792</td>\n",
       "      <td>2015</td>\n",
       "      <td>RD15</td>\n",
       "      <td>Construction</td>\n",
       "      <td>34,135</td>\n",
       "      <td>6,608</td>\n",
       "      <td>1,990</td>\n",
       "      <td>978</td>\n",
       "      <td>618</td>\n",
       "      <td>284.0</td>\n",
       "      <td>54.0</td>\n",
       "    </tr>\n",
       "    <tr>\n",
       "      <td>12527</td>\n",
       "      <td>2016</td>\n",
       "      <td>RD15</td>\n",
       "      <td>Construction</td>\n",
       "      <td>35,272</td>\n",
       "      <td>7,045</td>\n",
       "      <td>2,196</td>\n",
       "      <td>1,054</td>\n",
       "      <td>643</td>\n",
       "      <td>293.0</td>\n",
       "      <td>49.0</td>\n",
       "    </tr>\n",
       "    <tr>\n",
       "      <td>13262</td>\n",
       "      <td>2017</td>\n",
       "      <td>RD15</td>\n",
       "      <td>Construction</td>\n",
       "      <td>36,468</td>\n",
       "      <td>7,414</td>\n",
       "      <td>2,257</td>\n",
       "      <td>1,072</td>\n",
       "      <td>698</td>\n",
       "      <td>292.0</td>\n",
       "      <td>51.0</td>\n",
       "    </tr>\n",
       "    <tr>\n",
       "      <td>13997</td>\n",
       "      <td>2018</td>\n",
       "      <td>RD15</td>\n",
       "      <td>Construction</td>\n",
       "      <td>37,806</td>\n",
       "      <td>7,781</td>\n",
       "      <td>2,402</td>\n",
       "      <td>1,093</td>\n",
       "      <td>705</td>\n",
       "      <td>220.0</td>\n",
       "      <td>139.0</td>\n",
       "    </tr>\n",
       "    <tr>\n",
       "      <td>14732</td>\n",
       "      <td>2019</td>\n",
       "      <td>RD15</td>\n",
       "      <td>Construction</td>\n",
       "      <td>36,713</td>\n",
       "      <td>7,913</td>\n",
       "      <td>2,455</td>\n",
       "      <td>1,114</td>\n",
       "      <td>706</td>\n",
       "      <td>302.0</td>\n",
       "      <td>42.0</td>\n",
       "    </tr>\n",
       "  </tbody>\n",
       "</table>\n",
       "</div>"
      ],
      "text/plain": [
       "       year region_code business_type unknown one_to_4 five_to_9 ten_to_19  \\\n",
       "263    1999        RD15  Construction  11,360    4,850     1,156       835   \n",
       "983    2000        RD15  Construction  10,712    4,884     1,142       734   \n",
       "1703   2001        RD15  Construction  12,766    4,864     1,080       764   \n",
       "2423   2002        RD15  Construction  12,330    4,737     1,123       797   \n",
       "3143   2003        RD15  Construction  13,564    4,915     1,103       746   \n",
       "3863   2004        RD15  Construction  14,611    4,854     1,205       758   \n",
       "4583   2005        RD15  Construction  14,394    5,233     1,210       804   \n",
       "5303   2006        RD15  Construction  13,948    5,587     1,313       826   \n",
       "6023   2007        RD15  Construction  15,770    5,159     1,666       862   \n",
       "6743   2008        RD15  Construction  17,549    5,479     1,816       873   \n",
       "7463   2009        RD15  Construction  19,570    5,734     1,790       869   \n",
       "8183   2010        RD15  Construction  25,079    5,792     1,776       893   \n",
       "8903   2011        RD15  Construction  25,529    5,939     1,722       867   \n",
       "9623   2012        RD15  Construction  29,266    6,029     1,751       892   \n",
       "10343  2013        RD15  Construction  31,804    6,663     1,894       962   \n",
       "11057  2014        RD15  Construction  32,938    6,572     1,859       972   \n",
       "11792  2015        RD15  Construction  34,135    6,608     1,990       978   \n",
       "12527  2016        RD15  Construction  35,272    7,045     2,196     1,054   \n",
       "13262  2017        RD15  Construction  36,468    7,414     2,257     1,072   \n",
       "13997  2018        RD15  Construction  37,806    7,781     2,402     1,093   \n",
       "14732  2019        RD15  Construction  36,713    7,913     2,455     1,114   \n",
       "\n",
       "      twenty_to_49  fifty_to_199  two_hundred_plus  \n",
       "263            559         182.0              17.0  \n",
       "983            530         265.0              34.0  \n",
       "1703           528         268.0              31.0  \n",
       "2423           565         261.0              29.0  \n",
       "3143           549         240.0              28.0  \n",
       "3863           535         257.0              39.0  \n",
       "4583           564         299.0              45.0  \n",
       "5303           645         341.0              59.0  \n",
       "6023           557         222.0              27.0  \n",
       "6743           591         253.0              33.0  \n",
       "7463           617         257.0              32.0  \n",
       "8183           573         215.0              35.0  \n",
       "8903           529         222.0              31.0  \n",
       "9623           554         234.0              35.0  \n",
       "10343          581         245.0              41.0  \n",
       "11057          590         273.0              52.0  \n",
       "11792          618         284.0              54.0  \n",
       "12527          643         293.0              49.0  \n",
       "13262          698         292.0              51.0  \n",
       "13997          705         220.0             139.0  \n",
       "14732          706         302.0              42.0  "
      ]
     },
     "execution_count": 119,
     "metadata": {},
     "output_type": "execute_result"
    }
   ],
   "source": [
    "df[df.region_code=='RD15'][df.business_type=='Construction']"
   ]
  },
  {
   "cell_type": "markdown",
   "metadata": {},
   "source": [
    "## construction"
   ]
  },
  {
   "cell_type": "markdown",
   "metadata": {},
   "source": [
    "How did Olympic games impact the number of businesses in the different areas of vancouver? Are they more business created in wealthier part?"
   ]
  },
  {
   "cell_type": "markdown",
   "metadata": {},
   "source": [
    "### Greater Vancouver"
   ]
  },
  {
   "cell_type": "code",
   "execution_count": 26,
   "metadata": {},
   "outputs": [
    {
     "name": "stderr",
     "output_type": "stream",
     "text": [
      "/Users/fangmenggu/opt/anaconda3/lib/python3.7/site-packages/ipykernel_launcher.py:1: UserWarning: Boolean Series key will be reindexed to match DataFrame index.\n",
      "  \"\"\"Entry point for launching an IPython kernel.\n"
     ]
    }
   ],
   "source": [
    "construction=df[df.business_type=='Construction'][df.region_code=='RD15']"
   ]
  },
  {
   "cell_type": "code",
   "execution_count": 27,
   "metadata": {},
   "outputs": [
    {
     "data": {
      "text/html": [
       "<div>\n",
       "<style scoped>\n",
       "    .dataframe tbody tr th:only-of-type {\n",
       "        vertical-align: middle;\n",
       "    }\n",
       "\n",
       "    .dataframe tbody tr th {\n",
       "        vertical-align: top;\n",
       "    }\n",
       "\n",
       "    .dataframe thead th {\n",
       "        text-align: right;\n",
       "    }\n",
       "</style>\n",
       "<table border=\"1\" class=\"dataframe\">\n",
       "  <thead>\n",
       "    <tr style=\"text-align: right;\">\n",
       "      <th></th>\n",
       "      <th>year</th>\n",
       "      <th>region_code</th>\n",
       "      <th>business_type</th>\n",
       "      <th>unknown</th>\n",
       "      <th>one_to_4</th>\n",
       "      <th>five_to_9</th>\n",
       "      <th>ten_to_19</th>\n",
       "      <th>twenty_to_49</th>\n",
       "      <th>fifty_to_199</th>\n",
       "      <th>two_hundred_plus</th>\n",
       "    </tr>\n",
       "  </thead>\n",
       "  <tbody>\n",
       "    <tr>\n",
       "      <td>263</td>\n",
       "      <td>1999</td>\n",
       "      <td>RD15</td>\n",
       "      <td>Construction</td>\n",
       "      <td>11,360</td>\n",
       "      <td>4,850</td>\n",
       "      <td>1,156</td>\n",
       "      <td>835</td>\n",
       "      <td>559</td>\n",
       "      <td>182.0</td>\n",
       "      <td>17.0</td>\n",
       "    </tr>\n",
       "    <tr>\n",
       "      <td>983</td>\n",
       "      <td>2000</td>\n",
       "      <td>RD15</td>\n",
       "      <td>Construction</td>\n",
       "      <td>10,712</td>\n",
       "      <td>4,884</td>\n",
       "      <td>1,142</td>\n",
       "      <td>734</td>\n",
       "      <td>530</td>\n",
       "      <td>265.0</td>\n",
       "      <td>34.0</td>\n",
       "    </tr>\n",
       "    <tr>\n",
       "      <td>1703</td>\n",
       "      <td>2001</td>\n",
       "      <td>RD15</td>\n",
       "      <td>Construction</td>\n",
       "      <td>12,766</td>\n",
       "      <td>4,864</td>\n",
       "      <td>1,080</td>\n",
       "      <td>764</td>\n",
       "      <td>528</td>\n",
       "      <td>268.0</td>\n",
       "      <td>31.0</td>\n",
       "    </tr>\n",
       "    <tr>\n",
       "      <td>2423</td>\n",
       "      <td>2002</td>\n",
       "      <td>RD15</td>\n",
       "      <td>Construction</td>\n",
       "      <td>12,330</td>\n",
       "      <td>4,737</td>\n",
       "      <td>1,123</td>\n",
       "      <td>797</td>\n",
       "      <td>565</td>\n",
       "      <td>261.0</td>\n",
       "      <td>29.0</td>\n",
       "    </tr>\n",
       "    <tr>\n",
       "      <td>3143</td>\n",
       "      <td>2003</td>\n",
       "      <td>RD15</td>\n",
       "      <td>Construction</td>\n",
       "      <td>13,564</td>\n",
       "      <td>4,915</td>\n",
       "      <td>1,103</td>\n",
       "      <td>746</td>\n",
       "      <td>549</td>\n",
       "      <td>240.0</td>\n",
       "      <td>28.0</td>\n",
       "    </tr>\n",
       "  </tbody>\n",
       "</table>\n",
       "</div>"
      ],
      "text/plain": [
       "      year region_code business_type unknown one_to_4 five_to_9 ten_to_19  \\\n",
       "263   1999        RD15  Construction  11,360    4,850     1,156       835   \n",
       "983   2000        RD15  Construction  10,712    4,884     1,142       734   \n",
       "1703  2001        RD15  Construction  12,766    4,864     1,080       764   \n",
       "2423  2002        RD15  Construction  12,330    4,737     1,123       797   \n",
       "3143  2003        RD15  Construction  13,564    4,915     1,103       746   \n",
       "\n",
       "     twenty_to_49  fifty_to_199  two_hundred_plus  \n",
       "263           559         182.0              17.0  \n",
       "983           530         265.0              34.0  \n",
       "1703          528         268.0              31.0  \n",
       "2423          565         261.0              29.0  \n",
       "3143          549         240.0              28.0  "
      ]
     },
     "execution_count": 27,
     "metadata": {},
     "output_type": "execute_result"
    }
   ],
   "source": [
    "construction.head()"
   ]
  },
  {
   "cell_type": "code",
   "execution_count": 28,
   "metadata": {},
   "outputs": [],
   "source": [
    "one_to_4=pd.to_numeric(construction['one_to_4'].str.replace(',','').values)"
   ]
  },
  {
   "cell_type": "code",
   "execution_count": 29,
   "metadata": {},
   "outputs": [
    {
     "data": {
      "text/plain": [
       "263      182.0\n",
       "983      265.0\n",
       "1703     268.0\n",
       "2423     261.0\n",
       "3143     240.0\n",
       "3863     257.0\n",
       "4583     299.0\n",
       "5303     341.0\n",
       "6023     222.0\n",
       "6743     253.0\n",
       "7463     257.0\n",
       "8183     215.0\n",
       "8903     222.0\n",
       "9623     234.0\n",
       "10343    245.0\n",
       "11057    273.0\n",
       "11792    284.0\n",
       "12527    293.0\n",
       "13262    292.0\n",
       "13997    220.0\n",
       "14732    302.0\n",
       "Name: fifty_to_199, dtype: float64"
      ]
     },
     "execution_count": 29,
     "metadata": {},
     "output_type": "execute_result"
    }
   ],
   "source": [
    "construction['fifty_to_199']"
   ]
  },
  {
   "cell_type": "code",
   "execution_count": 30,
   "metadata": {},
   "outputs": [
    {
     "data": {
      "text/plain": [
       "array([4850, 4884, 4864, 4737, 4915, 4854, 5233, 5587, 5159, 5479, 5734,\n",
       "       5792, 5939, 6029, 6663, 6572, 6608, 7045, 7414, 7781, 7913])"
      ]
     },
     "execution_count": 30,
     "metadata": {},
     "output_type": "execute_result"
    }
   ],
   "source": [
    "one_to_4"
   ]
  },
  {
   "cell_type": "code",
   "execution_count": 31,
   "metadata": {
    "scrolled": false
   },
   "outputs": [
    {
     "data": {
      "text/plain": [
       "[<matplotlib.lines.Line2D at 0x1251e7c10>]"
      ]
     },
     "execution_count": 31,
     "metadata": {},
     "output_type": "execute_result"
    },
    {
     "data": {
      "image/png": "[encoded data removed]",
      "text/plain": [
       "<Figure size 720x360 with 1 Axes>"
      ]
     },
     "metadata": {
      "needs_background": "light"
     },
     "output_type": "display_data"
    }
   ],
   "source": [
    "plt.figure(figsize=(10,5))\n",
    "plt.plot(construction['year'].values,pd.to_numeric(construction['one_to_4'].str.replace(',','').values))\n",
    "plt.plot(construction['year'].values,pd.to_numeric(construction['five_to_9'].str.replace(',','').values))\n",
    "plt.plot(construction['year'].values,pd.to_numeric(construction['ten_to_19'].str.replace(',','').values))\n",
    "plt.plot(construction['year'].values,pd.to_numeric(construction['twenty_to_49'].str.replace(',','').values))\n",
    "plt.plot(construction['year'].values,pd.to_numeric(construction['fifty_to_199'].replace(',','').values))\n",
    "plt.plot(construction['year'].values,pd.to_numeric(construction['two_hundred_plus'].replace(',','').values))"
   ]
  },
  {
   "cell_type": "code",
   "execution_count": 32,
   "metadata": {},
   "outputs": [],
   "source": [
    "a=pd.to_numeric(construction['unknown'].str.replace(',','').values)\n",
    "b=pd.to_numeric(construction['one_to_4'].str.replace(',','').values)\n",
    "c=pd.to_numeric(construction['five_to_9'].str.replace(',','').values)\n",
    "d=pd.to_numeric(construction['ten_to_19'].str.replace(',','').values)\n",
    "e=pd.to_numeric(construction['twenty_to_49'].str.replace(',','').values)\n",
    "f=pd.to_numeric(construction['fifty_to_199'].replace(',','').values)\n",
    "g=pd.to_numeric(construction['two_hundred_plus'].replace(',','').values)"
   ]
  },
  {
   "cell_type": "code",
   "execution_count": 33,
   "metadata": {},
   "outputs": [],
   "source": [
    "total=a+b+c+d+e+f+g"
   ]
  },
  {
   "cell_type": "code",
   "execution_count": 34,
   "metadata": {},
   "outputs": [],
   "source": [
    "rates=(total[1:]-total[:len(total)-1])/total[:len(total)-1]"
   ]
  },
  {
   "cell_type": "code",
   "execution_count": null,
   "metadata": {},
   "outputs": [],
   "source": []
  },
  {
   "cell_type": "markdown",
   "metadata": {},
   "source": [
    "### Nearby regions Alberni-Clayoquot"
   ]
  },
  {
   "cell_type": "code",
   "execution_count": 35,
   "metadata": {},
   "outputs": [
    {
     "name": "stderr",
     "output_type": "stream",
     "text": [
      "/Users/fangmenggu/opt/anaconda3/lib/python3.7/site-packages/ipykernel_launcher.py:1: UserWarning: Boolean Series key will be reindexed to match DataFrame index.\n",
      "  \"\"\"Entry point for launching an IPython kernel.\n"
     ]
    }
   ],
   "source": [
    "construction=df[df.business_type=='Construction'][df.region_code=='RD23']"
   ]
  },
  {
   "cell_type": "code",
   "execution_count": 36,
   "metadata": {},
   "outputs": [
    {
     "data": {
      "text/plain": [
       "[<matplotlib.lines.Line2D at 0x125382c10>]"
      ]
     },
     "execution_count": 36,
     "metadata": {},
     "output_type": "execute_result"
    },
    {
     "data": {
      "image/png": "[encoded data removed]",
      "text/plain": [
       "<Figure size 720x360 with 1 Axes>"
      ]
     },
     "metadata": {
      "needs_background": "light"
     },
     "output_type": "display_data"
    }
   ],
   "source": [
    "plt.figure(figsize=(10,5))\n",
    "plt.plot(construction['year'].values,pd.to_numeric(construction['one_to_4'].str.replace(',','').values))\n",
    "plt.plot(construction['year'].values,pd.to_numeric(construction['five_to_9'].str.replace(',','').values))\n",
    "plt.plot(construction['year'].values,pd.to_numeric(construction['ten_to_19'].str.replace(',','').values))\n",
    "plt.plot(construction['year'].values,pd.to_numeric(construction['twenty_to_49'].str.replace(',','').values))\n",
    "plt.plot(construction['year'].values,pd.to_numeric(construction['fifty_to_199'].replace(',','').values))\n",
    "plt.plot(construction['year'].values,pd.to_numeric(construction['two_hundred_plus'].replace(',','').values))"
   ]
  },
  {
   "cell_type": "code",
   "execution_count": 37,
   "metadata": {},
   "outputs": [],
   "source": [
    "a=pd.to_numeric(construction['unknown'].str.replace(',','').values)\n",
    "b=pd.to_numeric(construction['one_to_4'].str.replace(',','').values)\n",
    "c=pd.to_numeric(construction['five_to_9'].str.replace(',','').values)\n",
    "d=pd.to_numeric(construction['ten_to_19'].str.replace(',','').values)\n",
    "e=pd.to_numeric(construction['twenty_to_49'].str.replace(',','').values)\n",
    "f=pd.to_numeric(construction['fifty_to_199'].replace(',','').values)\n",
    "g=pd.to_numeric(construction['two_hundred_plus'].replace(',','').values)"
   ]
  },
  {
   "cell_type": "code",
   "execution_count": 38,
   "metadata": {},
   "outputs": [],
   "source": [
    "total=a+b+c+d+e+f+g"
   ]
  },
  {
   "cell_type": "code",
   "execution_count": 39,
   "metadata": {},
   "outputs": [],
   "source": [
    "rates2=(total[1:]-total[:len(total)-1])/total[:len(total)-1]"
   ]
  },
  {
   "cell_type": "code",
   "execution_count": 40,
   "metadata": {},
   "outputs": [],
   "source": [
    "zeros=np.zeros(20)"
   ]
  },
  {
   "cell_type": "code",
   "execution_count": 41,
   "metadata": {},
   "outputs": [
    {
     "data": {
      "image/png": "[encoded data removed]",
      "text/plain": [
       "<Figure size 720x360 with 1 Axes>"
      ]
     },
     "metadata": {
      "needs_background": "light"
     },
     "output_type": "display_data"
    }
   ],
   "source": [
    "plt.figure(figsize=(10,5))\n",
    "plt.plot(construction['year'][1:],rates,'bo')\n",
    "plt.plot(construction['year'][1:],rates, label='vancouver')\n",
    "plt.plot(construction['year'][1:],rates2,'ro')\n",
    "plt.plot(construction['year'][1:],rates2, label='nearby region')\n",
    "plt.plot(construction['year'][1:],zeros)\n",
    "plt.legend()\n",
    "plt.show()"
   ]
  },
  {
   "cell_type": "markdown",
   "metadata": {},
   "source": [
    "## Transportation & Warehousing (48-49)"
   ]
  },
  {
   "cell_type": "markdown",
   "metadata": {},
   "source": [
    "### Great Vancouver"
   ]
  },
  {
   "cell_type": "code",
   "execution_count": 42,
   "metadata": {},
   "outputs": [
    {
     "name": "stderr",
     "output_type": "stream",
     "text": [
      "/Users/fangmenggu/opt/anaconda3/lib/python3.7/site-packages/ipykernel_launcher.py:1: UserWarning: Boolean Series key will be reindexed to match DataFrame index.\n",
      "  \"\"\"Entry point for launching an IPython kernel.\n"
     ]
    }
   ],
   "source": [
    "transport=df[df.business_type=='Transportation & Warehousing (48-49)'][df.region_code=='RD15']"
   ]
  },
  {
   "cell_type": "code",
   "execution_count": 43,
   "metadata": {},
   "outputs": [
    {
     "data": {
      "text/html": [
       "<div>\n",
       "<style scoped>\n",
       "    .dataframe tbody tr th:only-of-type {\n",
       "        vertical-align: middle;\n",
       "    }\n",
       "\n",
       "    .dataframe tbody tr th {\n",
       "        vertical-align: top;\n",
       "    }\n",
       "\n",
       "    .dataframe thead th {\n",
       "        text-align: right;\n",
       "    }\n",
       "</style>\n",
       "<table border=\"1\" class=\"dataframe\">\n",
       "  <thead>\n",
       "    <tr style=\"text-align: right;\">\n",
       "      <th></th>\n",
       "      <th>year</th>\n",
       "      <th>region_code</th>\n",
       "      <th>business_type</th>\n",
       "      <th>unknown</th>\n",
       "      <th>one_to_4</th>\n",
       "      <th>five_to_9</th>\n",
       "      <th>ten_to_19</th>\n",
       "      <th>twenty_to_49</th>\n",
       "      <th>fifty_to_199</th>\n",
       "      <th>two_hundred_plus</th>\n",
       "    </tr>\n",
       "  </thead>\n",
       "  <tbody>\n",
       "    <tr>\n",
       "      <td>3147</td>\n",
       "      <td>2003</td>\n",
       "      <td>RD15</td>\n",
       "      <td>Transportation &amp; Warehousing (48-49)</td>\n",
       "      <td>4,162</td>\n",
       "      <td>2,307</td>\n",
       "      <td>350</td>\n",
       "      <td>268</td>\n",
       "      <td>244</td>\n",
       "      <td>147.0</td>\n",
       "      <td>48.0</td>\n",
       "    </tr>\n",
       "    <tr>\n",
       "      <td>3867</td>\n",
       "      <td>2004</td>\n",
       "      <td>RD15</td>\n",
       "      <td>Transportation &amp; Warehousing (48-49)</td>\n",
       "      <td>4,380</td>\n",
       "      <td>2,280</td>\n",
       "      <td>375</td>\n",
       "      <td>276</td>\n",
       "      <td>247</td>\n",
       "      <td>139.0</td>\n",
       "      <td>50.0</td>\n",
       "    </tr>\n",
       "    <tr>\n",
       "      <td>4587</td>\n",
       "      <td>2005</td>\n",
       "      <td>RD15</td>\n",
       "      <td>Transportation &amp; Warehousing (48-49)</td>\n",
       "      <td>4,467</td>\n",
       "      <td>2,417</td>\n",
       "      <td>348</td>\n",
       "      <td>288</td>\n",
       "      <td>260</td>\n",
       "      <td>153.0</td>\n",
       "      <td>51.0</td>\n",
       "    </tr>\n",
       "    <tr>\n",
       "      <td>5307</td>\n",
       "      <td>2006</td>\n",
       "      <td>RD15</td>\n",
       "      <td>Transportation &amp; Warehousing (48-49)</td>\n",
       "      <td>5,829</td>\n",
       "      <td>2,496</td>\n",
       "      <td>366</td>\n",
       "      <td>302</td>\n",
       "      <td>278</td>\n",
       "      <td>158.0</td>\n",
       "      <td>53.0</td>\n",
       "    </tr>\n",
       "    <tr>\n",
       "      <td>6027</td>\n",
       "      <td>2007</td>\n",
       "      <td>RD15</td>\n",
       "      <td>Transportation &amp; Warehousing (48-49)</td>\n",
       "      <td>6,911</td>\n",
       "      <td>2,152</td>\n",
       "      <td>558</td>\n",
       "      <td>338</td>\n",
       "      <td>280</td>\n",
       "      <td>137.0</td>\n",
       "      <td>46.0</td>\n",
       "    </tr>\n",
       "  </tbody>\n",
       "</table>\n",
       "</div>"
      ],
      "text/plain": [
       "      year region_code                         business_type unknown one_to_4  \\\n",
       "3147  2003        RD15  Transportation & Warehousing (48-49)   4,162    2,307   \n",
       "3867  2004        RD15  Transportation & Warehousing (48-49)   4,380    2,280   \n",
       "4587  2005        RD15  Transportation & Warehousing (48-49)   4,467    2,417   \n",
       "5307  2006        RD15  Transportation & Warehousing (48-49)   5,829    2,496   \n",
       "6027  2007        RD15  Transportation & Warehousing (48-49)   6,911    2,152   \n",
       "\n",
       "     five_to_9 ten_to_19 twenty_to_49  fifty_to_199  two_hundred_plus  \n",
       "3147       350       268          244         147.0              48.0  \n",
       "3867       375       276          247         139.0              50.0  \n",
       "4587       348       288          260         153.0              51.0  \n",
       "5307       366       302          278         158.0              53.0  \n",
       "6027       558       338          280         137.0              46.0  "
      ]
     },
     "execution_count": 43,
     "metadata": {},
     "output_type": "execute_result"
    }
   ],
   "source": [
    "transport.head()"
   ]
  },
  {
   "cell_type": "code",
   "execution_count": 44,
   "metadata": {},
   "outputs": [
    {
     "data": {
      "text/plain": [
       "[<matplotlib.lines.Line2D at 0x125542810>]"
      ]
     },
     "execution_count": 44,
     "metadata": {},
     "output_type": "execute_result"
    },
    {
     "data": {
      "image/png": "[encoded data removed]",
      "text/plain": [
       "<Figure size 720x360 with 1 Axes>"
      ]
     },
     "metadata": {
      "needs_background": "light"
     },
     "output_type": "display_data"
    }
   ],
   "source": [
    "plt.figure(figsize=(10,5))\n",
    "# plt.plot(construction['year'].values,pd.to_numeric(construction['one_to_4'].str.replace(',','').values))\n",
    "plt.plot(transport['year'].values,pd.to_numeric(transport['five_to_9'].str.replace(',','').values))\n",
    "plt.plot(transport['year'].values,pd.to_numeric(transport['ten_to_19'].str.replace(',','').values))\n",
    "plt.plot(transport['year'].values,pd.to_numeric(transport['twenty_to_49'].str.replace(',','').values))\n",
    "\n",
    "plt.plot(transport['year'].values,pd.to_numeric(transport['fifty_to_199'].replace(',','').values))\n",
    "plt.plot(transport['year'].values,pd.to_numeric(transport['two_hundred_plus'].replace(',','').values))"
   ]
  },
  {
   "cell_type": "code",
   "execution_count": 45,
   "metadata": {},
   "outputs": [],
   "source": [
    "a=pd.to_numeric(transport['unknown'].str.replace(',','').values)\n",
    "b=pd.to_numeric(transport['one_to_4'].str.replace(',','').values)\n",
    "c=pd.to_numeric(transport['five_to_9'].str.replace(',','').values)\n",
    "d=pd.to_numeric(transport['ten_to_19'].str.replace(',','').values)\n",
    "e=pd.to_numeric(transport['twenty_to_49'].str.replace(',','').values)\n",
    "f=pd.to_numeric(transport['fifty_to_199'].replace(',','').values)\n",
    "g=pd.to_numeric(transport['two_hundred_plus'].replace(',','').values)"
   ]
  },
  {
   "cell_type": "code",
   "execution_count": 46,
   "metadata": {},
   "outputs": [],
   "source": [
    "total_vancouver=a+b+c+d+e+f+g"
   ]
  },
  {
   "cell_type": "code",
   "execution_count": 47,
   "metadata": {},
   "outputs": [],
   "source": [
    "rates=(total_vancouver[1:]-total_vancouver[:len(total_vancouver)-1])/total_vancouver[:len(total_vancouver)-1]"
   ]
  },
  {
   "cell_type": "markdown",
   "metadata": {},
   "source": [
    "### Nearby region"
   ]
  },
  {
   "cell_type": "code",
   "execution_count": 48,
   "metadata": {},
   "outputs": [
    {
     "name": "stderr",
     "output_type": "stream",
     "text": [
      "/Users/fangmenggu/opt/anaconda3/lib/python3.7/site-packages/ipykernel_launcher.py:1: UserWarning: Boolean Series key will be reindexed to match DataFrame index.\n",
      "  \"\"\"Entry point for launching an IPython kernel.\n"
     ]
    }
   ],
   "source": [
    "transport=df[df.business_type=='Transportation & Warehousing (48-49)'][df.region_code=='RD23']"
   ]
  },
  {
   "cell_type": "code",
   "execution_count": 49,
   "metadata": {},
   "outputs": [
    {
     "data": {
      "text/html": [
       "<div>\n",
       "<style scoped>\n",
       "    .dataframe tbody tr th:only-of-type {\n",
       "        vertical-align: middle;\n",
       "    }\n",
       "\n",
       "    .dataframe tbody tr th {\n",
       "        vertical-align: top;\n",
       "    }\n",
       "\n",
       "    .dataframe thead th {\n",
       "        text-align: right;\n",
       "    }\n",
       "</style>\n",
       "<table border=\"1\" class=\"dataframe\">\n",
       "  <thead>\n",
       "    <tr style=\"text-align: right;\">\n",
       "      <th></th>\n",
       "      <th>year</th>\n",
       "      <th>region_code</th>\n",
       "      <th>business_type</th>\n",
       "      <th>unknown</th>\n",
       "      <th>one_to_4</th>\n",
       "      <th>five_to_9</th>\n",
       "      <th>ten_to_19</th>\n",
       "      <th>twenty_to_49</th>\n",
       "      <th>fifty_to_199</th>\n",
       "      <th>two_hundred_plus</th>\n",
       "    </tr>\n",
       "  </thead>\n",
       "  <tbody>\n",
       "    <tr>\n",
       "      <td>3227</td>\n",
       "      <td>2003</td>\n",
       "      <td>RD23</td>\n",
       "      <td>Transportation &amp; Warehousing (48-49)</td>\n",
       "      <td>64</td>\n",
       "      <td>50</td>\n",
       "      <td>11</td>\n",
       "      <td>6</td>\n",
       "      <td>3</td>\n",
       "      <td>1.0</td>\n",
       "      <td>0.0</td>\n",
       "    </tr>\n",
       "    <tr>\n",
       "      <td>3947</td>\n",
       "      <td>2004</td>\n",
       "      <td>RD23</td>\n",
       "      <td>Transportation &amp; Warehousing (48-49)</td>\n",
       "      <td>69</td>\n",
       "      <td>51</td>\n",
       "      <td>9</td>\n",
       "      <td>6</td>\n",
       "      <td>3</td>\n",
       "      <td>1.0</td>\n",
       "      <td>0.0</td>\n",
       "    </tr>\n",
       "    <tr>\n",
       "      <td>4667</td>\n",
       "      <td>2005</td>\n",
       "      <td>RD23</td>\n",
       "      <td>Transportation &amp; Warehousing (48-49)</td>\n",
       "      <td>69</td>\n",
       "      <td>46</td>\n",
       "      <td>4</td>\n",
       "      <td>10</td>\n",
       "      <td>3</td>\n",
       "      <td>1.0</td>\n",
       "      <td>0.0</td>\n",
       "    </tr>\n",
       "    <tr>\n",
       "      <td>5387</td>\n",
       "      <td>2006</td>\n",
       "      <td>RD23</td>\n",
       "      <td>Transportation &amp; Warehousing (48-49)</td>\n",
       "      <td>79</td>\n",
       "      <td>39</td>\n",
       "      <td>7</td>\n",
       "      <td>8</td>\n",
       "      <td>3</td>\n",
       "      <td>2.0</td>\n",
       "      <td>0.0</td>\n",
       "    </tr>\n",
       "    <tr>\n",
       "      <td>6107</td>\n",
       "      <td>2007</td>\n",
       "      <td>RD23</td>\n",
       "      <td>Transportation &amp; Warehousing (48-49)</td>\n",
       "      <td>63</td>\n",
       "      <td>24</td>\n",
       "      <td>10</td>\n",
       "      <td>8</td>\n",
       "      <td>6</td>\n",
       "      <td>1.0</td>\n",
       "      <td>0.0</td>\n",
       "    </tr>\n",
       "    <tr>\n",
       "      <td>6827</td>\n",
       "      <td>2008</td>\n",
       "      <td>RD23</td>\n",
       "      <td>Transportation &amp; Warehousing (48-49)</td>\n",
       "      <td>72</td>\n",
       "      <td>26</td>\n",
       "      <td>10</td>\n",
       "      <td>10</td>\n",
       "      <td>5</td>\n",
       "      <td>1.0</td>\n",
       "      <td>0.0</td>\n",
       "    </tr>\n",
       "    <tr>\n",
       "      <td>7547</td>\n",
       "      <td>2009</td>\n",
       "      <td>RD23</td>\n",
       "      <td>Transportation &amp; Warehousing (48-49)</td>\n",
       "      <td>84</td>\n",
       "      <td>26</td>\n",
       "      <td>12</td>\n",
       "      <td>9</td>\n",
       "      <td>4</td>\n",
       "      <td>1.0</td>\n",
       "      <td>0.0</td>\n",
       "    </tr>\n",
       "    <tr>\n",
       "      <td>8267</td>\n",
       "      <td>2010</td>\n",
       "      <td>RD23</td>\n",
       "      <td>Transportation &amp; Warehousing (48-49)</td>\n",
       "      <td>112</td>\n",
       "      <td>34</td>\n",
       "      <td>15</td>\n",
       "      <td>9</td>\n",
       "      <td>6</td>\n",
       "      <td>1.0</td>\n",
       "      <td>0.0</td>\n",
       "    </tr>\n",
       "    <tr>\n",
       "      <td>8987</td>\n",
       "      <td>2011</td>\n",
       "      <td>RD23</td>\n",
       "      <td>Transportation &amp; Warehousing (48-49)</td>\n",
       "      <td>105</td>\n",
       "      <td>36</td>\n",
       "      <td>17</td>\n",
       "      <td>13</td>\n",
       "      <td>5</td>\n",
       "      <td>1.0</td>\n",
       "      <td>0.0</td>\n",
       "    </tr>\n",
       "    <tr>\n",
       "      <td>9707</td>\n",
       "      <td>2012</td>\n",
       "      <td>RD23</td>\n",
       "      <td>Transportation &amp; Warehousing (48-49)</td>\n",
       "      <td>139</td>\n",
       "      <td>27</td>\n",
       "      <td>15</td>\n",
       "      <td>11</td>\n",
       "      <td>4</td>\n",
       "      <td>1.0</td>\n",
       "      <td>0.0</td>\n",
       "    </tr>\n",
       "    <tr>\n",
       "      <td>10427</td>\n",
       "      <td>2013</td>\n",
       "      <td>RD23</td>\n",
       "      <td>Transportation &amp; Warehousing (48-49)</td>\n",
       "      <td>132</td>\n",
       "      <td>33</td>\n",
       "      <td>14</td>\n",
       "      <td>10</td>\n",
       "      <td>4</td>\n",
       "      <td>1.0</td>\n",
       "      <td>0.0</td>\n",
       "    </tr>\n",
       "    <tr>\n",
       "      <td>11145</td>\n",
       "      <td>2014</td>\n",
       "      <td>RD23</td>\n",
       "      <td>Transportation &amp; Warehousing (48-49)</td>\n",
       "      <td>128</td>\n",
       "      <td>29</td>\n",
       "      <td>15</td>\n",
       "      <td>15</td>\n",
       "      <td>4</td>\n",
       "      <td>1.0</td>\n",
       "      <td>0.0</td>\n",
       "    </tr>\n",
       "    <tr>\n",
       "      <td>11880</td>\n",
       "      <td>2015</td>\n",
       "      <td>RD23</td>\n",
       "      <td>Transportation &amp; Warehousing (48-49)</td>\n",
       "      <td>110</td>\n",
       "      <td>35</td>\n",
       "      <td>15</td>\n",
       "      <td>13</td>\n",
       "      <td>5</td>\n",
       "      <td>1.0</td>\n",
       "      <td>0.0</td>\n",
       "    </tr>\n",
       "    <tr>\n",
       "      <td>12615</td>\n",
       "      <td>2016</td>\n",
       "      <td>RD23</td>\n",
       "      <td>Transportation &amp; Warehousing (48-49)</td>\n",
       "      <td>124</td>\n",
       "      <td>38</td>\n",
       "      <td>16</td>\n",
       "      <td>10</td>\n",
       "      <td>5</td>\n",
       "      <td>1.0</td>\n",
       "      <td>0.0</td>\n",
       "    </tr>\n",
       "    <tr>\n",
       "      <td>13350</td>\n",
       "      <td>2017</td>\n",
       "      <td>RD23</td>\n",
       "      <td>Transportation &amp; Warehousing (48-49)</td>\n",
       "      <td>113</td>\n",
       "      <td>37</td>\n",
       "      <td>17</td>\n",
       "      <td>12</td>\n",
       "      <td>5</td>\n",
       "      <td>1.0</td>\n",
       "      <td>0.0</td>\n",
       "    </tr>\n",
       "    <tr>\n",
       "      <td>14085</td>\n",
       "      <td>2018</td>\n",
       "      <td>RD23</td>\n",
       "      <td>Transportation &amp; Warehousing (48-49)</td>\n",
       "      <td>122</td>\n",
       "      <td>36</td>\n",
       "      <td>15</td>\n",
       "      <td>12</td>\n",
       "      <td>4</td>\n",
       "      <td>3.0</td>\n",
       "      <td>0.0</td>\n",
       "    </tr>\n",
       "    <tr>\n",
       "      <td>14820</td>\n",
       "      <td>2019</td>\n",
       "      <td>RD23</td>\n",
       "      <td>Transportation &amp; Warehousing (48-49)</td>\n",
       "      <td>118</td>\n",
       "      <td>29</td>\n",
       "      <td>20</td>\n",
       "      <td>12</td>\n",
       "      <td>7</td>\n",
       "      <td>1.0</td>\n",
       "      <td>0.0</td>\n",
       "    </tr>\n",
       "  </tbody>\n",
       "</table>\n",
       "</div>"
      ],
      "text/plain": [
       "       year region_code                         business_type unknown  \\\n",
       "3227   2003        RD23  Transportation & Warehousing (48-49)      64   \n",
       "3947   2004        RD23  Transportation & Warehousing (48-49)      69   \n",
       "4667   2005        RD23  Transportation & Warehousing (48-49)      69   \n",
       "5387   2006        RD23  Transportation & Warehousing (48-49)      79   \n",
       "6107   2007        RD23  Transportation & Warehousing (48-49)      63   \n",
       "6827   2008        RD23  Transportation & Warehousing (48-49)      72   \n",
       "7547   2009        RD23  Transportation & Warehousing (48-49)      84   \n",
       "8267   2010        RD23  Transportation & Warehousing (48-49)     112   \n",
       "8987   2011        RD23  Transportation & Warehousing (48-49)     105   \n",
       "9707   2012        RD23  Transportation & Warehousing (48-49)     139   \n",
       "10427  2013        RD23  Transportation & Warehousing (48-49)     132   \n",
       "11145  2014        RD23  Transportation & Warehousing (48-49)     128   \n",
       "11880  2015        RD23  Transportation & Warehousing (48-49)     110   \n",
       "12615  2016        RD23  Transportation & Warehousing (48-49)     124   \n",
       "13350  2017        RD23  Transportation & Warehousing (48-49)     113   \n",
       "14085  2018        RD23  Transportation & Warehousing (48-49)     122   \n",
       "14820  2019        RD23  Transportation & Warehousing (48-49)     118   \n",
       "\n",
       "      one_to_4 five_to_9 ten_to_19 twenty_to_49  fifty_to_199  \\\n",
       "3227        50        11         6            3           1.0   \n",
       "3947        51         9         6            3           1.0   \n",
       "4667        46         4        10            3           1.0   \n",
       "5387        39         7         8            3           2.0   \n",
       "6107        24        10         8            6           1.0   \n",
       "6827        26        10        10            5           1.0   \n",
       "7547        26        12         9            4           1.0   \n",
       "8267        34        15         9            6           1.0   \n",
       "8987        36        17        13            5           1.0   \n",
       "9707        27        15        11            4           1.0   \n",
       "10427       33        14        10            4           1.0   \n",
       "11145       29        15        15            4           1.0   \n",
       "11880       35        15        13            5           1.0   \n",
       "12615       38        16        10            5           1.0   \n",
       "13350       37        17        12            5           1.0   \n",
       "14085       36        15        12            4           3.0   \n",
       "14820       29        20        12            7           1.0   \n",
       "\n",
       "       two_hundred_plus  \n",
       "3227                0.0  \n",
       "3947                0.0  \n",
       "4667                0.0  \n",
       "5387                0.0  \n",
       "6107                0.0  \n",
       "6827                0.0  \n",
       "7547                0.0  \n",
       "8267                0.0  \n",
       "8987                0.0  \n",
       "9707                0.0  \n",
       "10427               0.0  \n",
       "11145               0.0  \n",
       "11880               0.0  \n",
       "12615               0.0  \n",
       "13350               0.0  \n",
       "14085               0.0  \n",
       "14820               0.0  "
      ]
     },
     "execution_count": 49,
     "metadata": {},
     "output_type": "execute_result"
    }
   ],
   "source": [
    "transport"
   ]
  },
  {
   "cell_type": "code",
   "execution_count": 50,
   "metadata": {},
   "outputs": [],
   "source": [
    "a=pd.to_numeric(transport['unknown'].str.replace(',','').values)\n",
    "b=pd.to_numeric(transport['one_to_4'].str.replace(',','').values)\n",
    "c=pd.to_numeric(transport['five_to_9'].str.replace(',','').values)\n",
    "d=pd.to_numeric(transport['ten_to_19'].str.replace(',','').values)\n",
    "e=pd.to_numeric(transport['twenty_to_49'].str.replace(',','').values)\n",
    "f=pd.to_numeric(transport['fifty_to_199'].replace(',','').values)\n",
    "g=pd.to_numeric(transport['two_hundred_plus'].replace(',','').values)"
   ]
  },
  {
   "cell_type": "code",
   "execution_count": 51,
   "metadata": {},
   "outputs": [
    {
     "data": {
      "text/plain": [
       "array([50, 51, 46, 39, 24, 26, 26, 34, 36, 27, 33, 29, 35, 38, 37, 36, 29])"
      ]
     },
     "execution_count": 51,
     "metadata": {},
     "output_type": "execute_result"
    }
   ],
   "source": [
    "b"
   ]
  },
  {
   "cell_type": "code",
   "execution_count": 52,
   "metadata": {},
   "outputs": [
    {
     "data": {
      "text/plain": [
       "[<matplotlib.lines.Line2D at 0x125670f50>]"
      ]
     },
     "execution_count": 52,
     "metadata": {},
     "output_type": "execute_result"
    },
    {
     "data": {
      "image/png": "[encoded data removed]",
      "text/plain": [
       "<Figure size 720x360 with 1 Axes>"
      ]
     },
     "metadata": {
      "needs_background": "light"
     },
     "output_type": "display_data"
    }
   ],
   "source": [
    "plt.figure(figsize=(10,5))\n",
    "# plt.plot(construction['year'].values,pd.to_numeric(construction['one_to_4'].str.replace(',','').values))\n",
    "plt.plot(transport['year'].values,pd.to_numeric(transport['five_to_9'].str.replace(',','').values))\n",
    "plt.plot(transport['year'].values,pd.to_numeric(transport['ten_to_19'].str.replace(',','').values))\n",
    "plt.plot(transport['year'].values,pd.to_numeric(transport['twenty_to_49'].str.replace(',','').values))\n",
    "\n",
    "plt.plot(transport['year'].values,pd.to_numeric(transport['fifty_to_199'].replace(',','').values))\n",
    "plt.plot(transport['year'].values,pd.to_numeric(transport['two_hundred_plus'].replace(',','').values))"
   ]
  },
  {
   "cell_type": "code",
   "execution_count": 53,
   "metadata": {},
   "outputs": [],
   "source": [
    "total=a+b+c+d+e+f+g"
   ]
  },
  {
   "cell_type": "code",
   "execution_count": 174,
   "metadata": {
    "scrolled": true
   },
   "outputs": [
    {
     "data": {
      "text/plain": [
       "array([2003, 2004, 2005, 2006, 2007, 2008, 2009, 2010, 2011, 2012, 2013,\n",
       "       2014, 2015, 2016, 2017, 2018, 2019])"
      ]
     },
     "execution_count": 174,
     "metadata": {},
     "output_type": "execute_result"
    }
   ],
   "source": [
    "transport['year'].values"
   ]
  },
  {
   "cell_type": "code",
   "execution_count": 55,
   "metadata": {},
   "outputs": [],
   "source": [
    "rates2=(total[1:]-total[:len(total)-1])/total[:len(total)-1]"
   ]
  },
  {
   "cell_type": "code",
   "execution_count": 61,
   "metadata": {},
   "outputs": [
    {
     "data": {
      "text/plain": [
       "0.3014705882352941"
      ]
     },
     "execution_count": 61,
     "metadata": {},
     "output_type": "execute_result"
    }
   ],
   "source": [
    "rates2[6]"
   ]
  },
  {
   "cell_type": "code",
   "execution_count": 56,
   "metadata": {},
   "outputs": [],
   "source": [
    "zeros=np.zeros(16)"
   ]
  },
  {
   "cell_type": "code",
   "execution_count": 57,
   "metadata": {},
   "outputs": [
    {
     "data": {
      "image/png": "[encoded data removed]",
      "text/plain": [
       "<Figure size 720x360 with 1 Axes>"
      ]
     },
     "metadata": {
      "needs_background": "light"
     },
     "output_type": "display_data"
    }
   ],
   "source": [
    "plt.figure(figsize=(10,5))\n",
    "plt.plot(transport['year'][1:],rates,'bo')\n",
    "plt.plot(transport['year'][1:],rates, label='vancouver')\n",
    "plt.plot(transport['year'][1:],rates2,'ro')\n",
    "plt.plot(transport['year'][1:],rates2, label='nearby region')\n",
    "plt.plot(transport['year'][1:],zeros)\n",
    "plt.legend()\n",
    "plt.show()"
   ]
  },
  {
   "cell_type": "code",
   "execution_count": 179,
   "metadata": {},
   "outputs": [],
   "source": [
    "class business:\n",
    "    def __init__(self,b='',r=''):\n",
    "        self.business_type=b\n",
    "        self.region_code=r\n",
    "    def plot(self):\n",
    "        data=df[df.business_type==self.business_type][df.region_code==self.region_code]\n",
    "        a=pd.to_numeric(data['unknown'].str.replace(',','').values)\n",
    "        b=pd.to_numeric(data['one_to_4'].str.replace(',','').values)\n",
    "        c=pd.to_numeric(data['five_to_9'].str.replace(',','').values)\n",
    "        d=pd.to_numeric(data['ten_to_19'].str.replace(',','').values)\n",
    "        e=pd.to_numeric(data['twenty_to_49'].str.replace(',','').values)\n",
    "        f=pd.to_numeric(data['fifty_to_199'].replace(',','').values)\n",
    "        g=pd.to_numeric(data['two_hundred_plus'].replace(',','').values)\n",
    "        total=a+b+c+d+e+f+g\n",
    "        print(a)\n",
    "        rates2=(total[1:]-total[:len(total)-1])/total[:len(total)-1]\n",
    "        print(len(rates2))\n",
    "        zeros=np.zeros(len(rates2))\n",
    "        \n",
    "        plt.figure(figsize=(10,5))\n",
    "        plt.plot(data['year'][1:],rates2,'ro')\n",
    "        plt.plot(data['year'][1:],rates2, label='nearby region')\n",
    "        plt.plot(data['year'][1:],zeros)\n",
    "        plt.legend()\n",
    "        plt.show()\n",
    "    \n",
    "    def get_data_rates(self,year):\n",
    "        data=df[df.business_type==self.business_type][df.region_code==self.region_code]\n",
    "        a=pd.to_numeric(data['unknown'].str.replace(',','').values)\n",
    "        b=pd.to_numeric(data['one_to_4'].str.replace(',','').values)\n",
    "        c=pd.to_numeric(data['five_to_9'].str.replace(',','').values)\n",
    "        d=pd.to_numeric(data['ten_to_19'].str.replace(',','').values)\n",
    "        e=pd.to_numeric(data['twenty_to_49'].str.replace(',','').values)\n",
    "        f=pd.to_numeric(data['fifty_to_199'].replace(',','').values)\n",
    "        g=pd.to_numeric(data['two_hundred_plus'].replace(',','').values)\n",
    "        total=a+b+c+d+e+f+g\n",
    "        rates2=(total[1:]-total[:len(total)-1])/total[:len(total)-1]\n",
    "        return rates2[year-data['year'].values[1]]\n",
    "    \n",
    "    def year(self):\n",
    "        data=df[df.business_type==self.business_type][df.region_code==self.region_code]\n",
    "        return data['year'][1:].values\n",
    "        \n",
    "        \n",
    "        "
   ]
  },
  {
   "cell_type": "code",
   "execution_count": 188,
   "metadata": {},
   "outputs": [],
   "source": [
    "bus1 = business('Construction','RD25')"
   ]
  },
  {
   "cell_type": "code",
   "execution_count": 189,
   "metadata": {},
   "outputs": [
    {
     "name": "stdout",
     "output_type": "stream",
     "text": [
      "[ 609  580  653  638  638  698  669  693  801  908 1076 1319 1301 1558]\n",
      "13\n"
     ]
    },
    {
     "name": "stderr",
     "output_type": "stream",
     "text": [
      "/Users/fangmenggu/opt/anaconda3/lib/python3.7/site-packages/ipykernel_launcher.py:6: UserWarning: Boolean Series key will be reindexed to match DataFrame index.\n",
      "  \n"
     ]
    },
    {
     "data": {
      "image/png": "[encoded data removed]",
      "text/plain": [
       "<Figure size 720x360 with 1 Axes>"
      ]
     },
     "metadata": {
      "needs_background": "light"
     },
     "output_type": "display_data"
    }
   ],
   "source": [
    "bus1.plot()"
   ]
  },
  {
   "cell_type": "code",
   "execution_count": 182,
   "metadata": {},
   "outputs": [
    {
     "name": "stderr",
     "output_type": "stream",
     "text": [
      "/Users/fangmenggu/opt/anaconda3/lib/python3.7/site-packages/ipykernel_launcher.py:28: UserWarning: Boolean Series key will be reindexed to match DataFrame index.\n"
     ]
    },
    {
     "data": {
      "text/plain": [
       "0.1578387577111253"
      ]
     },
     "execution_count": 182,
     "metadata": {},
     "output_type": "execute_result"
    }
   ],
   "source": [
    "bus1.get_data_rates(2010)"
   ]
  },
  {
   "cell_type": "code",
   "execution_count": 183,
   "metadata": {},
   "outputs": [
    {
     "name": "stderr",
     "output_type": "stream",
     "text": [
      "/Users/fangmenggu/opt/anaconda3/lib/python3.7/site-packages/ipykernel_launcher.py:41: UserWarning: Boolean Series key will be reindexed to match DataFrame index.\n"
     ]
    },
    {
     "data": {
      "text/plain": [
       "array([2000, 2001, 2002, 2003, 2004, 2005, 2006, 2007, 2008, 2009, 2010,\n",
       "       2011, 2012, 2013, 2014, 2015, 2016, 2017, 2018, 2019])"
      ]
     },
     "execution_count": 183,
     "metadata": {},
     "output_type": "execute_result"
    }
   ],
   "source": [
    "bus1.year()"
   ]
  },
  {
   "cell_type": "code",
   "execution_count": 209,
   "metadata": {},
   "outputs": [],
   "source": [
    "name=['Greater Vancouver', 'Frasey Valley', 'Cowichan Valley', 'Nanaimo', 'Alberni-Clayoquot', 'Comox',\n",
    "     'Powell River', 'Sunshine coast', 'Squamish-Lillooet', 'Okanagan-Similkameen']\n",
    "region_c=['RD15','RD09','RD19', 'RD21', 'RD23','RD25', 'RD27', 'RD29', 'RD31', 'RD07']"
   ]
  },
  {
   "cell_type": "code",
   "execution_count": 210,
   "metadata": {},
   "outputs": [
    {
     "name": "stderr",
     "output_type": "stream",
     "text": [
      "/Users/fangmenggu/opt/anaconda3/lib/python3.7/site-packages/ipykernel_launcher.py:41: UserWarning: Boolean Series key will be reindexed to match DataFrame index.\n",
      "/Users/fangmenggu/opt/anaconda3/lib/python3.7/site-packages/ipykernel_launcher.py:28: UserWarning: Boolean Series key will be reindexed to match DataFrame index.\n"
     ]
    }
   ],
   "source": [
    "L2=[]\n",
    "\n",
    "for value in region_c:\n",
    "    L1=[]\n",
    "    bus = business('Construction',value)\n",
    "    for y in bus.year():\n",
    "        L1.append(bus.get_data_rates(y))\n",
    "    L2.append(L1)"
   ]
  },
  {
   "cell_type": "code",
   "execution_count": 213,
   "metadata": {},
   "outputs": [
    {
     "name": "stderr",
     "output_type": "stream",
     "text": [
      "/Users/fangmenggu/opt/anaconda3/lib/python3.7/site-packages/ipykernel_launcher.py:41: UserWarning: Boolean Series key will be reindexed to match DataFrame index.\n"
     ]
    }
   ],
   "source": [
    "rates=pd.DataFrame(L2, columns=bus.year())"
   ]
  },
  {
   "cell_type": "code",
   "execution_count": 222,
   "metadata": {},
   "outputs": [
    {
     "data": {
      "text/html": [
       "<div>\n",
       "<style scoped>\n",
       "    .dataframe tbody tr th:only-of-type {\n",
       "        vertical-align: middle;\n",
       "    }\n",
       "\n",
       "    .dataframe tbody tr th {\n",
       "        vertical-align: top;\n",
       "    }\n",
       "\n",
       "    .dataframe thead th {\n",
       "        text-align: right;\n",
       "    }\n",
       "</style>\n",
       "<table border=\"1\" class=\"dataframe\">\n",
       "  <thead>\n",
       "    <tr style=\"text-align: right;\">\n",
       "      <th></th>\n",
       "      <th>2000</th>\n",
       "      <th>2001</th>\n",
       "      <th>2002</th>\n",
       "      <th>2003</th>\n",
       "      <th>2004</th>\n",
       "      <th>2005</th>\n",
       "      <th>2006</th>\n",
       "      <th>2007</th>\n",
       "      <th>2008</th>\n",
       "      <th>2009</th>\n",
       "      <th>2010</th>\n",
       "      <th>2011</th>\n",
       "      <th>2012</th>\n",
       "      <th>2013</th>\n",
       "      <th>2014</th>\n",
       "      <th>2015</th>\n",
       "      <th>2016</th>\n",
       "      <th>2017</th>\n",
       "      <th>2018</th>\n",
       "      <th>2019</th>\n",
       "    </tr>\n",
       "  </thead>\n",
       "  <tbody>\n",
       "    <tr>\n",
       "      <td>0</td>\n",
       "      <td>-0.034706</td>\n",
       "      <td>0.109284</td>\n",
       "      <td>-0.022610</td>\n",
       "      <td>0.065669</td>\n",
       "      <td>0.052684</td>\n",
       "      <td>0.013028</td>\n",
       "      <td>0.007539</td>\n",
       "      <td>0.067961</td>\n",
       "      <td>0.096072</td>\n",
       "      <td>0.085546</td>\n",
       "      <td>0.190308</td>\n",
       "      <td>0.013852</td>\n",
       "      <td>0.112575</td>\n",
       "      <td>0.088465</td>\n",
       "      <td>0.025267</td>\n",
       "      <td>0.032620</td>\n",
       "      <td>0.042201</td>\n",
       "      <td>0.036518</td>\n",
       "      <td>0.039252</td>\n",
       "      <td>-0.017968</td>\n",
       "    </tr>\n",
       "    <tr>\n",
       "      <td>1</td>\n",
       "      <td>NaN</td>\n",
       "      <td>0.103597</td>\n",
       "      <td>-0.004959</td>\n",
       "      <td>0.086508</td>\n",
       "      <td>0.082569</td>\n",
       "      <td>0.078087</td>\n",
       "      <td>0.017967</td>\n",
       "      <td>0.070877</td>\n",
       "      <td>0.129281</td>\n",
       "      <td>0.072064</td>\n",
       "      <td>0.157839</td>\n",
       "      <td>-0.005144</td>\n",
       "      <td>0.127793</td>\n",
       "      <td>0.047486</td>\n",
       "      <td>-0.003595</td>\n",
       "      <td>0.000471</td>\n",
       "      <td>0.037322</td>\n",
       "      <td>0.042177</td>\n",
       "      <td>0.038874</td>\n",
       "      <td>-0.012846</td>\n",
       "    </tr>\n",
       "    <tr>\n",
       "      <td>2</td>\n",
       "      <td>NaN</td>\n",
       "      <td>NaN</td>\n",
       "      <td>-0.056180</td>\n",
       "      <td>0.063492</td>\n",
       "      <td>0.060945</td>\n",
       "      <td>0.062134</td>\n",
       "      <td>0.039735</td>\n",
       "      <td>0.090234</td>\n",
       "      <td>0.114898</td>\n",
       "      <td>0.085590</td>\n",
       "      <td>0.274336</td>\n",
       "      <td>-0.017677</td>\n",
       "      <td>0.108612</td>\n",
       "      <td>0.034783</td>\n",
       "      <td>-0.025770</td>\n",
       "      <td>0.010351</td>\n",
       "      <td>0.023335</td>\n",
       "      <td>0.012236</td>\n",
       "      <td>0.019780</td>\n",
       "      <td>-0.032866</td>\n",
       "    </tr>\n",
       "    <tr>\n",
       "      <td>3</td>\n",
       "      <td>-0.006817</td>\n",
       "      <td>0.081675</td>\n",
       "      <td>-0.026650</td>\n",
       "      <td>0.058018</td>\n",
       "      <td>0.057301</td>\n",
       "      <td>0.036713</td>\n",
       "      <td>0.048342</td>\n",
       "      <td>0.064343</td>\n",
       "      <td>0.131486</td>\n",
       "      <td>0.095280</td>\n",
       "      <td>0.178049</td>\n",
       "      <td>-0.004141</td>\n",
       "      <td>0.094595</td>\n",
       "      <td>-0.000317</td>\n",
       "      <td>-0.021533</td>\n",
       "      <td>0.014887</td>\n",
       "      <td>0.011798</td>\n",
       "      <td>0.010715</td>\n",
       "      <td>0.023075</td>\n",
       "      <td>-0.016458</td>\n",
       "    </tr>\n",
       "    <tr>\n",
       "      <td>4</td>\n",
       "      <td>NaN</td>\n",
       "      <td>NaN</td>\n",
       "      <td>-0.034188</td>\n",
       "      <td>0.022124</td>\n",
       "      <td>0.004329</td>\n",
       "      <td>0.047414</td>\n",
       "      <td>0.098765</td>\n",
       "      <td>-0.089888</td>\n",
       "      <td>0.144033</td>\n",
       "      <td>0.151079</td>\n",
       "      <td>0.331250</td>\n",
       "      <td>0.007042</td>\n",
       "      <td>0.158508</td>\n",
       "      <td>0.008048</td>\n",
       "      <td>-0.053892</td>\n",
       "      <td>-0.010549</td>\n",
       "      <td>0.021322</td>\n",
       "      <td>0.039666</td>\n",
       "      <td>-0.022088</td>\n",
       "      <td>0.024641</td>\n",
       "    </tr>\n",
       "  </tbody>\n",
       "</table>\n",
       "</div>"
      ],
      "text/plain": [
       "       2000      2001      2002      2003      2004      2005      2006  \\\n",
       "0 -0.034706  0.109284 -0.022610  0.065669  0.052684  0.013028  0.007539   \n",
       "1       NaN  0.103597 -0.004959  0.086508  0.082569  0.078087  0.017967   \n",
       "2       NaN       NaN -0.056180  0.063492  0.060945  0.062134  0.039735   \n",
       "3 -0.006817  0.081675 -0.026650  0.058018  0.057301  0.036713  0.048342   \n",
       "4       NaN       NaN -0.034188  0.022124  0.004329  0.047414  0.098765   \n",
       "\n",
       "       2007      2008      2009      2010      2011      2012      2013  \\\n",
       "0  0.067961  0.096072  0.085546  0.190308  0.013852  0.112575  0.088465   \n",
       "1  0.070877  0.129281  0.072064  0.157839 -0.005144  0.127793  0.047486   \n",
       "2  0.090234  0.114898  0.085590  0.274336 -0.017677  0.108612  0.034783   \n",
       "3  0.064343  0.131486  0.095280  0.178049 -0.004141  0.094595 -0.000317   \n",
       "4 -0.089888  0.144033  0.151079  0.331250  0.007042  0.158508  0.008048   \n",
       "\n",
       "       2014      2015      2016      2017      2018      2019  \n",
       "0  0.025267  0.032620  0.042201  0.036518  0.039252 -0.017968  \n",
       "1 -0.003595  0.000471  0.037322  0.042177  0.038874 -0.012846  \n",
       "2 -0.025770  0.010351  0.023335  0.012236  0.019780 -0.032866  \n",
       "3 -0.021533  0.014887  0.011798  0.010715  0.023075 -0.016458  \n",
       "4 -0.053892 -0.010549  0.021322  0.039666 -0.022088  0.024641  "
      ]
     },
     "execution_count": 222,
     "metadata": {},
     "output_type": "execute_result"
    }
   ],
   "source": [
    "rates.head()"
   ]
  },
  {
   "cell_type": "code",
   "execution_count": 233,
   "metadata": {},
   "outputs": [
    {
     "name": "stderr",
     "output_type": "stream",
     "text": [
      "/Users/fangmenggu/opt/anaconda3/lib/python3.7/site-packages/ipykernel_launcher.py:41: UserWarning: Boolean Series key will be reindexed to match DataFrame index.\n",
      "/Users/fangmenggu/opt/anaconda3/lib/python3.7/site-packages/ipykernel_launcher.py:28: UserWarning: Boolean Series key will be reindexed to match DataFrame index.\n"
     ]
    }
   ],
   "source": [
    "L2=[]\n",
    "\n",
    "for value in region_c:\n",
    "    L1=[]\n",
    "    bus = business('Transportation & Warehousing (48-49)',value)\n",
    "    for y in bus.year():\n",
    "        L1.append(bus.get_data_rates(y))\n",
    "    L2.append(L1)"
   ]
  },
  {
   "cell_type": "code",
   "execution_count": 234,
   "metadata": {},
   "outputs": [
    {
     "name": "stderr",
     "output_type": "stream",
     "text": [
      "/Users/fangmenggu/opt/anaconda3/lib/python3.7/site-packages/ipykernel_launcher.py:41: UserWarning: Boolean Series key will be reindexed to match DataFrame index.\n"
     ]
    }
   ],
   "source": [
    "rates=pd.DataFrame(L2, columns=bus.year())"
   ]
  },
  {
   "cell_type": "code",
   "execution_count": 240,
   "metadata": {},
   "outputs": [
    {
     "data": {
      "text/plain": [
       "0.04459150128108665"
      ]
     },
     "execution_count": 240,
     "metadata": {},
     "output_type": "execute_result"
    }
   ],
   "source": [
    "np.mean(rates[2010])"
   ]
  },
  {
   "cell_type": "code",
   "execution_count": 245,
   "metadata": {},
   "outputs": [
    {
     "data": {
      "text/plain": [
       "True"
      ]
     },
     "execution_count": 245,
     "metadata": {},
     "output_type": "execute_result"
    }
   ],
   "source": [
    "2000 in rates.columns"
   ]
  },
  {
   "cell_type": "code",
   "execution_count": 247,
   "metadata": {},
   "outputs": [
    {
     "data": {
      "text/plain": [
       "nan"
      ]
     },
     "execution_count": 247,
     "metadata": {},
     "output_type": "execute_result"
    }
   ],
   "source": [
    "np.NaN"
   ]
  },
  {
   "cell_type": "code",
   "execution_count": null,
   "metadata": {},
   "outputs": [
    {
     "name": "stderr",
     "output_type": "stream",
     "text": [
      "/Users/fangmenggu/opt/anaconda3/lib/python3.7/site-packages/ipykernel_launcher.py:41: UserWarning: Boolean Series key will be reindexed to match DataFrame index.\n",
      "/Users/fangmenggu/opt/anaconda3/lib/python3.7/site-packages/ipykernel_launcher.py:28: UserWarning: Boolean Series key will be reindexed to match DataFrame index.\n",
      "/Users/fangmenggu/opt/anaconda3/lib/python3.7/site-packages/ipykernel_launcher.py:37: RuntimeWarning: divide by zero encountered in true_divide\n",
      "/Users/fangmenggu/opt/anaconda3/lib/python3.7/site-packages/ipykernel_launcher.py:37: RuntimeWarning: invalid value encountered in true_divide\n"
     ]
    }
   ],
   "source": [
    "L=[]\n",
    "for val in df.business_type.values:\n",
    "    L2=[]\n",
    "\n",
    "    for value in region_c:\n",
    "        L1=[]\n",
    "        bus = business(val,value)\n",
    "        for y in bus.year():\n",
    "            L1.append(bus.get_data_rates(y))\n",
    "        L2.append(L1)\n",
    "    rates=pd.DataFrame(L2, columns=bus.year())\n",
    "    if 2010 in rates.columns:\n",
    "        L.append(np.mean(rates[2010]))\n",
    "    else:\n",
    "        L.append(np.NaN)\n",
    "    "
   ]
  },
  {
   "cell_type": "code",
   "execution_count": null,
   "metadata": {},
   "outputs": [],
   "source": [
    "ratesall=pd.DataFrame(L,columns=df.business_type.values)"
   ]
  },
  {
   "cell_type": "code",
   "execution_count": null,
   "metadata": {},
   "outputs": [],
   "source": []
  }
 ],
 "metadata": {
  "kernelspec": {
   "display_name": "Python 3",
   "language": "python",
   "name": "python3"
  },
  "language_info": {
   "codemirror_mode": {
    "name": "ipython",
    "version": 3
   },
   "file_extension": ".py",
   "mimetype": "text/x-python",
   "name": "python",
   "nbconvert_exporter": "python",
   "pygments_lexer": "ipython3",
   "version": "3.7.6"
  }
 },
 "nbformat": 4,
 "nbformat_minor": 2
}
