{
 "cells": [
  {
   "cell_type": "code",
   "execution_count": 1,
   "metadata": {},
   "outputs": [],
   "source": [
    "import pandas as pd\n",
    "import requests\n",
    "import matplotlib.pyplot as plt\n",
    "import numpy as np\n",
    "from mpl_toolkits.basemap import Basemap\n",
    "\n"
   ]
  },
  {
   "cell_type": "code",
   "execution_count": 5,
   "metadata": {},
   "outputs": [],
   "source": [
    "# Coordinates for Vancouver, BC\n",
    "Van_lon = -123.1207\n",
    "Van_lat = 49.2827\n"
   ]
  },
  {
   "cell_type": "code",
   "execution_count": 6,
   "metadata": {},
   "outputs": [],
   "source": [
    "lon=[-123.1207,-123.1089, -123.0428, -123.1081, -123.2431, -123.1514]\n",
    "lat=[49.2827,49.27778,49.28583,49.24444,49.26083, 49.17472]\n",
    "size=[200,50,10,10,20,20]\n",
    "# Vancouver, roger arena, pacific coliseum, Hillcrest Centre, thunderbird sports centre, richmond olympic oval"
   ]
  },
  {
   "cell_type": "code",
   "execution_count": 7,
   "metadata": {},
   "outputs": [],
   "source": [
    "lon1 = [-123.1207,-121.8159, -124.0310, -123.9401, -125.6317, -124.9283, -124.5247, -123.7644, -122.6979, -120.1282]\n",
    "lat1=[49.2827,49.3764, 48.7569, 49.1659, 48.8447, 49.6735, 49.8352, 49.7604, 50.5666, 49.5173]\n"
   ]
  },
  {
   "cell_type": "code",
   "execution_count": 34,
   "metadata": {},
   "outputs": [],
   "source": [
    "s_2011=[0.08554561179213356,\n",
    " 0.07206385404789054,\n",
    " 0.08558951965065502,\n",
    " 0.09528049866429207,\n",
    " 0.1510791366906475,\n",
    " 0.10273081924577374,\n",
    " 0.8956521739130435,\n",
    " -0.2757527733755943,\n",
    " 0.09265944645006016,\n",
    " 0.12604263206672844]"
   ]
  },
  {
   "cell_type": "code",
   "execution_count": 35,
   "metadata": {},
   "outputs": [],
   "source": [
    "s_2011=[i*400 for i in s_2011]"
   ]
  },
  {
   "cell_type": "code",
   "execution_count": 10,
   "metadata": {},
   "outputs": [],
   "source": [
    "color=[]\n",
    "for i in range(len(s_2011)):\n",
    "    color.append('r')"
   ]
  },
  {
   "cell_type": "code",
   "execution_count": null,
   "metadata": {},
   "outputs": [],
   "source": [
    "plt.figure(figsize=(12,10))\n",
    "m = Basemap(\n",
    "    projection='merc', resolution='h', area_thresh=0.1,\n",
    "    lat_0=lat[0], lon_0=lon[0],\n",
    "    llcrnrlat=lat[0]-5, llcrnrlon=lon[0]-5,\n",
    "    urcrnrlat=lat[0]+5, urcrnrlon=lon[0]+5\n",
    ")\n",
    "\n",
    "# draw coastlines, country boundaries, fill continents.\n",
    "m.drawcoastlines(linewidth=0.25)\n",
    "m.drawcountries(linewidth=0.25)\n",
    "m.fillcontinents()\n",
    "\n",
    "# draw the edge of the map projection region (the projection limb)\n",
    "m.drawmapboundary()\n",
    "\n",
    "\n",
    "# # draw rivers\n",
    "# Map.drawrivers(color='b', linewidth=1)\n",
    "\n",
    "# # draw lat/lon grid lines\n",
    "# m.drawmeridians([int(Van_lon+i) for i in range(-1,3,)], labels=[1,0,0,1])\n",
    "# m.drawparallels([int(Van_lat+i) for i in range(-1,3,)], labels=[1,0,0,1])\n",
    "\n",
    "# label Vancouver\n",
    "x,y = m(lon1, lat1)\n",
    "\n",
    "\n",
    "m.scatter(x, y, s=s_2011, c=color, marker = 'o', zorder=3)\n",
    "x,y = m(Van_lon, Van_lat)\n",
    "m.plot(x, y, 'r*', markersize=24)\n",
    "plt.annotate('Vancouver', xy=(x,y), xytext=(10,10), textcoords='offset points', fontsize=16)\n",
    "plt.title(\"2011 - changes in rates in number of small businesses in construction\")\n",
    "plt.show()\n",
    "\n",
    "\n"
   ]
  }
 ],
 "metadata": {
  "kernelspec": {
   "display_name": "Python 3",
   "language": "python",
   "name": "python3"
  },
  "language_info": {
   "codemirror_mode": {
    "name": "ipython",
    "version": 3
   },
   "file_extension": ".py",
   "mimetype": "text/x-python",
   "name": "python",
   "nbconvert_exporter": "python",
   "pygments_lexer": "ipython3",
   "version": "3.7.6"
  }
 },
 "nbformat": 4,
 "nbformat_minor": 4
}
